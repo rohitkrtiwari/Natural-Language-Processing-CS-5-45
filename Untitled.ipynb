{
 "cells": [
  {
   "cell_type": "markdown",
   "id": "82a58cfe",
   "metadata": {},
   "source": [
    "# Tokenizer :)\n",
    "\n",
    "Tokenization is at the heart of much weirdness of LLMs. Do not brush it off.\n",
    "\n",
    "* Why can't LLM spell words ? **Tokenization**\n",
    "* Why can't LLM do super simple string processing tasks like reversing a string? **Tokenization**\n",
    "* Why is LLM verse at non-english languages (e.g. Japanese)? **Tokenization**\n",
    "* Why is LLM bad at simple airthmatic? **Tokenization**\n",
    "* Why is GPT-2 have more than necessary trouble coding in Python? **Tokenization**\n",
    "* Why did my LLM abruptly halt when it sees the string *<\\endoftext\\>*? **Tokenization**\n",
    "* Why is this weird warning I get about a *trailing whitspace*? **Tokenization**\n",
    "* Why the LLM breaks if I ask it about *SolidGoldMagiKarp*? **Tokenization** \n",
    "* Why should I prefer to use YAML over JSON with LLMs? **Tokenization**\n",
    "* Why is LLM not actually end-to-end language modelling? **Tokenization**\n",
    "* What is the real root of suffering? **Tokenization**\n",
    "\n",
    "\n",
    "Good tokenization web app: https://tiktokenizer.vercel.app/\n",
    "\n"
   ]
  },
  {
   "cell_type": "code",
   "execution_count": null,
   "id": "cd50c34e",
   "metadata": {},
   "outputs": [],
   "source": []
  }
 ],
 "metadata": {
  "kernelspec": {
   "display_name": "Python 3 (ipykernel)",
   "language": "python",
   "name": "python3"
  },
  "language_info": {
   "codemirror_mode": {
    "name": "ipython",
    "version": 3
   },
   "file_extension": ".py",
   "mimetype": "text/x-python",
   "name": "python",
   "nbconvert_exporter": "python",
   "pygments_lexer": "ipython3",
   "version": "3.12.3"
  }
 },
 "nbformat": 4,
 "nbformat_minor": 5
}
